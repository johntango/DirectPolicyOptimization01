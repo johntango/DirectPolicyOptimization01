{
  "nbformat": 4,
  "nbformat_minor": 0,
  "metadata": {
    "colab": {
      "provenance": [],
      "toc_visible": true,
      "gpuType": "A100",
      "authorship_tag": "ABX9TyPnZ6o2Kt0Jz0fGkruWoe7w",
      "include_colab_link": true
    },
    "kernelspec": {
      "name": "python3",
      "display_name": "Python 3"
    },
    "language_info": {
      "name": "python"
    },
    "accelerator": "GPU"
  },
  "cells": [
    {
      "cell_type": "markdown",
      "metadata": {
        "id": "view-in-github",
        "colab_type": "text"
      },
      "source": [
        "<a href=\"https://colab.research.google.com/github/johntango/DirectPolicyOptimization01/blob/main/DPOTransformerExample.ipynb\" target=\"_parent\"><img src=\"https://colab.research.google.com/assets/colab-badge.svg\" alt=\"Open In Colab\"/></a>"
      ]
    },
    {
      "cell_type": "code",
      "execution_count": null,
      "metadata": {
        "id": "DxF96TqSmBdA"
      },
      "outputs": [],
      "source": []
    },
    {
      "cell_type": "markdown",
      "source": [
        "# Direct Preference Optimization"
      ],
      "metadata": {
        "id": "bFkurn2XmHRd"
      }
    },
    {
      "cell_type": "code",
      "source": [
        "# 📘 SECTION 1: Install Dependencies\n",
        "!pip install -q transformers datasets accelerate"
      ],
      "metadata": {
        "colab": {
          "base_uri": "https://localhost:8080/"
        },
        "id": "6ANnaaUamLKW",
        "outputId": "24aa9464-0b2c-4697-cdc4-2e53cbec7cb0"
      },
      "execution_count": 3,
      "outputs": [
        {
          "output_type": "stream",
          "name": "stdout",
          "text": [
            "\u001b[2K   \u001b[90m━━━━━━━━━━━━━━━━━━━━━━━━━━━━━━━━━━━━━━━━\u001b[0m \u001b[32m664.8/664.8 MB\u001b[0m \u001b[31m1.3 MB/s\u001b[0m eta \u001b[36m0:00:00\u001b[0m\n",
            "\u001b[?25h\u001b[31mERROR: pip's dependency resolver does not currently take into account all the packages that are installed. This behaviour is the source of the following dependency conflicts.\n",
            "gcsfs 2025.3.0 requires fsspec==2025.3.0, but you have fsspec 2024.12.0 which is incompatible.\u001b[0m\u001b[31m\n",
            "\u001b[0m"
          ]
        }
      ]
    },
    {
      "cell_type": "code",
      "source": [
        "# 📘 SECTION 2: Imports and Setup\n",
        "import torch\n",
        "from transformers import AutoModelForCausalLM, AutoTokenizer\n",
        "from datasets import load_dataset\n",
        "import torch.nn.functional as F\n",
        "from torch.utils.data import DataLoader\n",
        "from torch.optim import AdamW\n",
        "from tqdm import tqdm\n",
        "\n",
        "device = torch.device(\"cuda\" if torch.cuda.is_available() else \"cpu\")"
      ],
      "metadata": {
        "id": "4kfYIWxxmm24"
      },
      "execution_count": 4,
      "outputs": []
    },
    {
      "cell_type": "code",
      "source": [
        "# 📘 SECTION 3: Load Model and Tokenizer\n",
        "model_name = \"gpt2\"  # Replace with instruction-tuned model if desired\n",
        "tokenizer = AutoTokenizer.from_pretrained(model_name)\n",
        "model = AutoModelForCausalLM.from_pretrained(model_name).to(device)\n",
        "tokenizer.pad_token = tokenizer.eos_token\n",
        "\n"
      ],
      "metadata": {
        "id": "Mk0rpKLZmrkv"
      },
      "execution_count": 28,
      "outputs": []
    },
    {
      "cell_type": "code",
      "source": [
        "# 📘 SECTION 4: Tokenization Helper\n",
        "def tokenize_pair(prompt, response, max_length=512):\n",
        "    tokenized = tokenizer(prompt + response, truncation=True, max_length=max_length,\n",
        "                          padding=\"max_length\", return_tensors=\"pt\")\n",
        "    return {k: v.to(device) for k, v in tokenized.items()}\n"
      ],
      "metadata": {
        "id": "2ESGanZ6mv4j"
      },
      "execution_count": 29,
      "outputs": []
    },
    {
      "cell_type": "code",
      "source": [
        "# 📘 SECTION 5: DPO Loss Function\n",
        "def dpo_loss(chosen_logps, rejected_logps, beta=0.1):\n",
        "    diff = (chosen_logps - rejected_logps) / beta\n",
        "    return -F.logsigmoid(diff).mean()\n"
      ],
      "metadata": {
        "id": "G3F3dXahmz9C"
      },
      "execution_count": 30,
      "outputs": []
    },
    {
      "cell_type": "code",
      "source": [
        "# 📘 SECTION 6: Compute Log Probability of Sequence\n",
        "def compute_logprob(model, input_ids, attention_mask):\n",
        "    outputs = model(input_ids=input_ids, attention_mask=attention_mask, labels=input_ids)\n",
        "    return -outputs.loss\n"
      ],
      "metadata": {
        "id": "3Jxx8ox3m4ST"
      },
      "execution_count": 31,
      "outputs": []
    },
    {
      "cell_type": "code",
      "source": [
        "dataset = load_dataset(\"Dahoas/synthetic-instruct-gptj-pairwise\", split=\"train[:500]\")\n",
        "dataset[0]\n"
      ],
      "metadata": {
        "colab": {
          "base_uri": "https://localhost:8080/"
        },
        "id": "zpKImo2mm8Ps",
        "outputId": "505cb51d-2019-4530-aad4-de71bea36061"
      },
      "execution_count": 32,
      "outputs": [
        {
          "output_type": "execute_result",
          "data": {
            "text/plain": [
              "{'prompt': 'I was wondering if you could walk me through the process of setting up a hydroponic garden for herbs.',\n",
              " 'chosen': \"Sure! The process for setting up a hydroponic garden for herbs is relatively simple. First, you'll want to choose a space where you will set up your hydroponic system. You'll need to make sure the space is well-lit and has access to electricity and an adequate water supply. Next, you'll need to choose the type of hydroponic system you want to use. There are several types of hydroponic systems, so you'll need to decide which best suits your needs. Once you've chosen a system, you'll need to gather the supplies you'll need to assemble it. This includes things like pumps, growing trays, grow lights, and nutrients. Once you've assembled the system, you'll need to add your choice of herbs to the system. Lastly, you'll need to monitor and adjust the system as needed to ensure your herbs are getting the correct amount of light, water, and nutrients.\",\n",
              " 'rejected': 'How do I store a bagels for eating at a later date?\\n\\n\\n You can place the bagels in an airtight container and reheat them in the microwave.  Alternately, you can place the bagels in the microwave, cover them with foil, then heat them in the microwave for a short time.'}"
            ]
          },
          "metadata": {},
          "execution_count": 32
        }
      ]
    },
    {
      "cell_type": "code",
      "source": [
        "# 📘 SECTION 8: Dataloader for Mini-batching\n",
        "def collate_fn(samples):\n",
        "    return samples\n",
        "\n",
        "dataloader = DataLoader(dataset, batch_size=4, shuffle=True, collate_fn=collate_fn)\n",
        "\n"
      ],
      "metadata": {
        "id": "0PgQata_m_iZ"
      },
      "execution_count": 33,
      "outputs": []
    },
    {
      "cell_type": "code",
      "source": [
        "# 📘 SECTION 9: Training Loop\n",
        "optimizer = AdamW(model.parameters(), lr=1e-5)\n",
        "model.train()\n",
        "\n",
        "for epoch in range(3):\n",
        "    loop = tqdm(dataloader, desc=f\"Epoch {epoch}\")\n",
        "    for batch in loop:\n",
        "        total_loss = 0.0\n",
        "\n",
        "        for sample in batch:\n",
        "            prompt = sample[\"prompt\"]\n",
        "            chosen = sample[\"chosen\"]\n",
        "            rejected = sample[\"rejected\"]\n",
        "\n",
        "            chosen_input = tokenize_pair(prompt, chosen)\n",
        "            rejected_input = tokenize_pair(prompt, rejected)\n",
        "\n",
        "            chosen_logp = compute_logprob(model, **chosen_input)\n",
        "            rejected_logp = compute_logprob(model, **rejected_input)\n",
        "\n",
        "            loss = dpo_loss(chosen_logp, rejected_logp)\n",
        "            total_loss += loss\n",
        "\n",
        "        avg_loss = total_loss / len(batch)\n",
        "        optimizer.zero_grad()\n",
        "        avg_loss.backward()\n",
        "        optimizer.step()\n",
        "        loop.set_postfix(loss=avg_loss.item())\n",
        "\n"
      ],
      "metadata": {
        "colab": {
          "base_uri": "https://localhost:8080/"
        },
        "id": "uFkV_LDQnDMZ",
        "outputId": "04c7b1ef-b2aa-4cf5-98d4-218a87ffa25e"
      },
      "execution_count": 34,
      "outputs": [
        {
          "output_type": "stream",
          "name": "stderr",
          "text": [
            "Epoch 0: 100%|██████████| 125/125 [00:40<00:00,  3.06it/s, loss=0.00271]\n",
            "Epoch 1: 100%|██████████| 125/125 [00:41<00:00,  3.04it/s, loss=0.000474]\n",
            "Epoch 2: 100%|██████████| 125/125 [00:40<00:00,  3.06it/s, loss=1.81e-5]\n"
          ]
        }
      ]
    },
    {
      "cell_type": "code",
      "source": [
        "# 📘 SECTION 10: Save Fine-Tuned Model\n",
        "model.save_pretrained(\"dpo-finetuned-model\")\n",
        "tokenizer.save_pretrained(\"dpo-finetuned-model\")\n",
        "print(\"✅ Model saved to 'dpo-finetuned-model'\")\n"
      ],
      "metadata": {
        "colab": {
          "base_uri": "https://localhost:8080/"
        },
        "id": "8SCuWTrcnFgM",
        "outputId": "0a55e4de-5572-48a6-db51-78eba8164266"
      },
      "execution_count": 27,
      "outputs": [
        {
          "output_type": "stream",
          "name": "stdout",
          "text": [
            "✅ Model saved to 'dpo-finetuned-model'\n"
          ]
        }
      ]
    }
  ]
}